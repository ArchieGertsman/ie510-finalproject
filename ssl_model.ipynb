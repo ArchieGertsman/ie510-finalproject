{
 "cells": [
  {
   "cell_type": "code",
   "execution_count": 1,
   "metadata": {},
   "outputs": [],
   "source": [
    "import numpy as np\n",
    "import matplotlib.pyplot as plt\n",
    "import torch\n",
    "from torch import nn\n",
    "\n",
    "device = torch.device(\"cuda\") if torch.cuda.is_available() else torch.device(\"cpu\")"
   ]
  },
  {
   "cell_type": "code",
   "execution_count": 143,
   "metadata": {},
   "outputs": [],
   "source": [
    "class OptimizerAgent(nn.Module):\n",
    "    def __init__(self, hidden_dim, n_layers):\n",
    "        super().__init__()\n",
    "        self.hidden_dim = hidden_dim\n",
    "        self.n_layers = n_layers\n",
    "        \n",
    "        self.gru = nn.GRU(1, hidden_dim, n_layers, batch_first=True)\n",
    "        self.fc = nn.Linear(hidden_dim, 1)\n",
    "        \n",
    "    def forward(self, x):\n",
    "        out, self.h = self.gru(x, self.h.detach())\n",
    "        out = self.fc(out)\n",
    "        return out\n",
    "    \n",
    "    def init_hidden(self, batch_size):\n",
    "        weight = next(self.parameters()).data\n",
    "        hidden = weight.new(self.n_layers, batch_size, self.hidden_dim).zero_().to(device)\n",
    "        self.h = hidden"
   ]
  },
  {
   "cell_type": "code",
   "execution_count": 144,
   "metadata": {},
   "outputs": [],
   "source": [
    "def generate_problem(n):\n",
    "    A = torch.randn(n,n)\n",
    "    A = A.T@A\n",
    "    b = torch.randn(n)\n",
    "    b = A.T@b\n",
    "    f = lambda x: .5*x@(A@x) - b@x\n",
    "    grad_f = lambda x: A@x - b\n",
    "    x0 = torch.randn(n)\n",
    "    return f, grad_f, x0"
   ]
  },
  {
   "cell_type": "code",
   "execution_count": 185,
   "metadata": {},
   "outputs": [],
   "source": [
    "\n",
    "\n",
    "def run_epoch(agent, opt, n_iter=100):\n",
    "    agent.init_hidden(n)\n",
    "    f, grad_f, x0 = generate_problem(n)\n",
    "\n",
    "    x = x0.clone()\n",
    "    loss = torch.tensor(0.)\n",
    "\n",
    "    for i in range(n_iter+2):\n",
    "        loss += f(x)\n",
    "        g = grad_f(x)\n",
    "\n",
    "        g = agent(g.data.unsqueeze(-1).unsqueeze(-1))\n",
    "        x = x + g.squeeze().squeeze()\n",
    "\n",
    "        if i>1 and i % 20 == 1:\n",
    "            opt.zero_grad()\n",
    "            loss.backward()\n",
    "            opt.step()\n",
    "\n",
    "            loss = torch.tensor(0.)\n",
    "            x = x.detach()\n",
    "\n",
    "    return loss"
   ]
  },
  {
   "cell_type": "code",
   "execution_count": 170,
   "metadata": {},
   "outputs": [
    {
     "name": "stdout",
     "output_type": "stream",
     "text": [
      "0.22818199\n",
      "0.3142818\n",
      "0.46249577\n",
      "0.43732443\n",
      "0.6351057\n",
      "0.13035144\n",
      "0.009931916\n",
      "0.0055180774\n",
      "0.014395106\n",
      "0.0020647675\n",
      "0.0033301774\n",
      "0.0013482135\n",
      "0.0065362426\n",
      "0.00010617877\n",
      "0.0005827461\n",
      "0.009844428\n",
      "0.0051839147\n",
      "0.0024972125\n",
      "0.003429862\n",
      "0.004159238\n",
      "0.009429584\n",
      "0.0015401352\n",
      "0.0071675195\n",
      "0.006953779\n",
      "0.0056012687\n",
      "0.005216771\n",
      "0.0016955545\n",
      "0.0022665\n",
      "0.0045311023\n",
      "0.0055889604\n",
      "0.0010386936\n",
      "0.0022660675\n",
      "0.0013923885\n",
      "0.0016243716\n",
      "0.001401907\n",
      "0.0030286466\n",
      "0.008895261\n",
      "0.002554529\n",
      "0.0009060696\n",
      "0.00055333285\n"
     ]
    },
    {
     "data": {
      "image/png": "[encoded data removed]",
      "text/plain": [
       "<Figure size 432x288 with 1 Axes>"
      ]
     },
     "metadata": {
      "needs_background": "light"
     },
     "output_type": "display_data"
    }
   ],
   "source": [
    "n = 10\n",
    "\n",
    "agent = OptimizerAgent(20, 2)\n",
    "opt = torch.optim.Adam(agent.parameters(), .003)\n",
    "\n",
    "n_epochs = 40\n",
    "final_losses = []\n",
    "\n",
    "for _ in range(n_epochs):\n",
    "    g_norms += [run_epoch(agent, opt)]\n",
    "\n",
    "plt.plot(np.arange(len(g_norms)), g_norms)\n",
    "plt.yscale('log')"
   ]
  },
  {
   "cell_type": "code",
   "execution_count": 182,
   "metadata": {},
   "outputs": [],
   "source": [
    "opt_agent.init_hidden(n)\n",
    "f, grad_f, x0 = generate_problem(n)"
   ]
  },
  {
   "cell_type": "code",
   "execution_count": 183,
   "metadata": {},
   "outputs": [
    {
     "data": {
      "image/png": "[encoded data removed]",
      "text/plain": [
       "<Figure size 432x288 with 1 Axes>"
      ]
     },
     "metadata": {
      "needs_background": "light"
     },
     "output_type": "display_data"
    }
   ],
   "source": [
    "x = x0.clone()\n",
    "g_norms = []\n",
    "\n",
    "for i in range(n_iter):\n",
    "    g = grad_f(x)\n",
    "    g_norms += [np.linalg.norm(g.detach().numpy())]\n",
    "\n",
    "    g = opt_agent(g.data.unsqueeze(-1).unsqueeze(-1))\n",
    "    x = x + g.squeeze().squeeze()\n",
    "\n",
    "plt.plot(np.arange(n_iter), g_norms)\n",
    "plt.yscale('log')\n",
    "\n"
   ]
  },
  {
   "cell_type": "code",
   "execution_count": 184,
   "metadata": {},
   "outputs": [
    {
     "data": {
      "text/plain": [
       "0.030967057"
      ]
     },
     "execution_count": 184,
     "metadata": {},
     "output_type": "execute_result"
    }
   ],
   "source": [
    "g_norms[-1]"
   ]
  },
  {
   "cell_type": "code",
   "execution_count": 177,
   "metadata": {},
   "outputs": [
    {
     "data": {
      "image/png": "[encoded data removed]",
      "text/plain": [
       "<Figure size 432x288 with 1 Axes>"
      ]
     },
     "metadata": {
      "needs_background": "light"
     },
     "output_type": "display_data"
    }
   ],
   "source": [
    "x = x0.clone()\n",
    "g_norms = []\n",
    "\n",
    "alpha = .05\n",
    "\n",
    "for i in range(n_iter):\n",
    "    g = grad_f(x)\n",
    "    g_norms += [np.linalg.norm(g.detach().numpy())]\n",
    "\n",
    "    x = x - alpha*g\n",
    "\n",
    "plt.plot(np.arange(n_iter), g_norms)\n",
    "plt.yscale('log')"
   ]
  },
  {
   "cell_type": "code",
   "execution_count": null,
   "metadata": {},
   "outputs": [],
   "source": []
  }
 ],
 "metadata": {
  "interpreter": {
   "hash": "868d701682088d1128cad788f3b783d362f359ccbd74a171330d82ee9fcc2b54"
  },
  "kernelspec": {
   "display_name": "Python 3.9.10 ('archienv')",
   "language": "python",
   "name": "python3"
  },
  "language_info": {
   "codemirror_mode": {
    "name": "ipython",
    "version": 3
   },
   "file_extension": ".py",
   "mimetype": "text/x-python",
   "name": "python",
   "nbconvert_exporter": "python",
   "pygments_lexer": "ipython3",
   "version": "3.9.10"
  },
  "orig_nbformat": 4
 },
 "nbformat": 4,
 "nbformat_minor": 2
}
