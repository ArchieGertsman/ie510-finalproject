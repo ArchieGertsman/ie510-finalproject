{
 "cells": [
  {
   "cell_type": "code",
   "execution_count": 102,
   "metadata": {},
   "outputs": [],
   "source": [
    "import numpy as np\n",
    "import matplotlib.pyplot as plt\n",
    "import torch\n",
    "from torch import nn\n",
    "\n",
    "device = torch.device(\"cuda\") if torch.cuda.is_available() else torch.device(\"cpu\")"
   ]
  },
  {
   "cell_type": "code",
   "execution_count": 214,
   "metadata": {},
   "outputs": [],
   "source": [
    "class OptimizerAgent(nn.Module):\n",
    "    def __init__(self, hidden_dim, n_layers):\n",
    "        super().__init__()\n",
    "        self.hidden_dim = hidden_dim\n",
    "        self.n_layers = n_layers\n",
    "        \n",
    "        self.gru = nn.GRU(1, hidden_dim, n_layers, batch_first=True)\n",
    "        self.fc = nn.Linear(hidden_dim, 1)\n",
    "        \n",
    "    def forward(self, x):\n",
    "        out, self.h = self.gru(x, self.h.detach())\n",
    "        out = self.fc(out)\n",
    "        return out\n",
    "    \n",
    "    def reset(self, batch_size):\n",
    "        weight = next(self.parameters()).data\n",
    "        hidden = weight.new(self.n_layers, batch_size, self.hidden_dim).zero_().to(device)\n",
    "        self.h = hidden"
   ]
  },
  {
   "cell_type": "code",
   "execution_count": 285,
   "metadata": {},
   "outputs": [],
   "source": [
    "def generate_problem(n):\n",
    "    A = torch.randn(n,n)\n",
    "    A = A.T@A\n",
    "    b = torch.randn(n)\n",
    "    b = A.T@b\n",
    "    x0 = torch.randn(n)\n",
    "    return A,b,x0"
   ]
  },
  {
   "cell_type": "code",
   "execution_count": 279,
   "metadata": {},
   "outputs": [],
   "source": [
    "def run_epoch(agent, opt, n_iter=100, unroll=20):\n",
    "    agent.reset(n)\n",
    "    A, b, x0 = generate_problem(n)\n",
    "\n",
    "    x = x0.clone()\n",
    "    loss = torch.tensor(0.)\n",
    "\n",
    "    for i in range(n_iter+2):\n",
    "        g = A@x-b\n",
    "        loss += g@g\n",
    "\n",
    "        d = agent(g.data.unsqueeze(-1).unsqueeze(-1))\n",
    "        d = d.squeeze().squeeze()\n",
    "        \n",
    "        x = x + d\n",
    "\n",
    "        if i>1 and i % unroll == 1:\n",
    "            opt.zero_grad()\n",
    "            loss.backward()\n",
    "            opt.step()\n",
    "\n",
    "            loss = torch.tensor(0.)\n",
    "            x = x.detach()\n",
    "\n",
    "    g = g.detach().numpy()\n",
    "    return g@g"
   ]
  },
  {
   "cell_type": "code",
   "execution_count": 313,
   "metadata": {},
   "outputs": [],
   "source": [
    "def minimize(update, A, b, x0, n_iter):\n",
    "    x = x0.clone()\n",
    "    x_prev = x0.clone()\n",
    "    g_prev = torch.zeros_like(x0)\n",
    "    g_normsq_list = []\n",
    "\n",
    "    for _ in range(n_iter):\n",
    "        g = A@x-b\n",
    "        g_normsq_list += [g@g]\n",
    "\n",
    "        d = update(g, g_prev, x, x_prev)\n",
    "        \n",
    "        g_prev = g.clone()\n",
    "        x_prev = x.clone()\n",
    "        \n",
    "        x = x + d\n",
    "\n",
    "    return g_normsq_list\n",
    "\n",
    "\n",
    "def run_agent(A, b, x0, n_iter):\n",
    "    agent.reset(x0.shape[0])\n",
    "\n",
    "    def update(g, g_prev, x, x_prev):\n",
    "        with torch.no_grad():\n",
    "            d = agent(g.unsqueeze(-1).unsqueeze(-1))\n",
    "            return d.squeeze().squeeze()\n",
    "\n",
    "    return minimize(update, A, b, x0, n_iter)\n",
    "\n",
    "\n",
    "def run_GD(A, b, x0, n_iter):\n",
    "    L = np.linalg.eigvals(A).max()\n",
    "    alpha = 1/L\n",
    "    def update(g, g_prev, x, x_prev):\n",
    "        return -alpha*g\n",
    "\n",
    "    return minimize(update, A, b, x0, n_iter)    \n",
    "\n",
    "\n",
    "def run_BB(A, b, x0, n_iter):\n",
    "    def update(g, g_prev, x, x_prev):\n",
    "        if torch.norm(x-x_prev) < 1e-8:\n",
    "            return -.05*g\n",
    "        s = x-x_prev\n",
    "        y = g-g_prev\n",
    "        alpha = (s@y)/(y@y)\n",
    "        return -alpha*g\n",
    "\n",
    "    return minimize(update, A, b, x0, n_iter)   \n",
    "\n",
    "\n",
    "def run_NAG(A, b, x0, n_iter):\n",
    "    L = np.linalg.eigvals(A).max()\n",
    "    alpha = 1/L\n",
    "    kappa = np.linalg.cond(A)\n",
    "    beta = 1 - 2/(np.sqrt(kappa) + 1)\n",
    "    print(beta)\n",
    "    def update(g0, g_prev, x, x_prev):\n",
    "        y = x + beta*(x-x_prev)\n",
    "        g = A@y-b\n",
    "        return y-x - alpha*g\n",
    "\n",
    "    return minimize(update, A, b, x0, n_iter)   \n"
   ]
  },
  {
   "cell_type": "code",
   "execution_count": 281,
   "metadata": {},
   "outputs": [],
   "source": [
    "def validate(agent, n_validations, n_iter):\n",
    "    agent.eval()\n",
    "    g_normsq_arr = np.zeros(n_validations)\n",
    "    with torch.no_grad():\n",
    "        for i in range(n_validations):\n",
    "            A, b, x0 = generate_problem(n)\n",
    "            agent_g_normsq_list = run_agent(A, b, x0, n_iter)\n",
    "            g_normsq_arr[i] = agent_g_normsq_list[-1]\n",
    "    avg_g_norm = np.sqrt(g_normsq_arr).mean()\n",
    "    return avg_g_norm, agent.state_dict()"
   ]
  },
  {
   "cell_type": "code",
   "execution_count": 286,
   "metadata": {},
   "outputs": [
    {
     "name": "stdout",
     "output_type": "stream",
     "text": [
      "8.113821263641565\n",
      "10.902127687982174\n",
      "12.296734448187284\n",
      "8.28369411592902\n",
      "6.344408851056071\n",
      "6.610923554973364\n",
      "1.7591513328296362\n",
      "1.6466340885176671\n",
      "1.4269019308641264\n",
      "0.579558967121535\n",
      "0.6192565374879717\n",
      "0.15136432057372612\n",
      "0.18148343804150346\n",
      "0.06805341393513799\n",
      "0.07702262221204274\n",
      "0.0740095165373228\n",
      "0.07628725528921655\n",
      "0.05812628563623732\n",
      "0.03985530031363389\n",
      "0.03914507727551244\n",
      "0.042061340684060596\n",
      "0.032251947360389645\n",
      "0.04975406676826841\n",
      "0.04873837345418029\n",
      "0.0516135847820963\n",
      "0.058795080876707526\n",
      "0.044098334020360695\n",
      "0.03594591032450706\n",
      "0.04122363378880783\n",
      "0.022269483206611155\n",
      "0.04649326406900391\n",
      "0.050801829490525786\n",
      "0.04894337675204258\n",
      "0.04144696741507786\n",
      "0.03848603273688086\n",
      "0.05081287393713518\n",
      "0.032807952073392176\n",
      "0.053088286773617\n",
      "0.04772793622902884\n",
      "0.04391836268978893\n",
      "0.05390609211846771\n",
      "0.09000723742196323\n",
      "0.048976846656607606\n",
      "0.08766034658937635\n",
      "0.04997945348756701\n",
      "0.04748691588716825\n",
      "0.057073203355113955\n",
      "0.03035111088611465\n",
      "0.10168924497543999\n",
      "0.07556488433759084\n"
     ]
    }
   ],
   "source": [
    "n = 10\n",
    "agent = OptimizerAgent(hidden_dim=20, n_layers=2)\n",
    "opt = torch.optim.Adam(agent.parameters(), .003)\n",
    "\n",
    "n_epochs = 50\n",
    "n_validations = 10\n",
    "n_iter = 100\n",
    "epoch_results = []\n",
    "for _ in range(n_epochs):\n",
    "    run_epoch(agent, opt)\n",
    "    epoch_results += [validate(agent, n_validations, n_iter)]\n",
    "    print(epoch_results[-1][0])\n"
   ]
  },
  {
   "cell_type": "code",
   "execution_count": 287,
   "metadata": {},
   "outputs": [
    {
     "data": {
      "text/plain": [
       "OptimizerAgent(\n",
       "  (gru): GRU(1, 20, num_layers=2, batch_first=True)\n",
       "  (fc): Linear(in_features=20, out_features=1, bias=True)\n",
       ")"
      ]
     },
     "execution_count": 287,
     "metadata": {},
     "output_type": "execute_result"
    }
   ],
   "source": [
    "best_params = min(epoch_results, key=lambda t: t[0])[1]\n",
    "agent.load_state_dict(best_params)\n",
    "agent.eval()"
   ]
  },
  {
   "cell_type": "code",
   "execution_count": 324,
   "metadata": {},
   "outputs": [
    {
     "name": "stdout",
     "output_type": "stream",
     "text": [
      "0.8815150287603257\n"
     ]
    },
    {
     "data": {
      "text/plain": [
       "Text(0, 0.5, 'log of gradient norm')"
      ]
     },
     "execution_count": 324,
     "metadata": {},
     "output_type": "execute_result"
    },
    {
     "data": {
      "image/png": "[encoded data removed]",
      "text/plain": [
       "<Figure size 432x288 with 1 Axes>"
      ]
     },
     "metadata": {
      "needs_background": "light"
     },
     "output_type": "display_data"
    }
   ],
   "source": [
    "n_iter = 100\n",
    "A, b, x0 = generate_problem(n)\n",
    "\n",
    "names = ['agent', 'GD', 'BB', 'NAG']\n",
    "run_funcs = [run_agent, run_GD, run_BB, run_NAG]\n",
    "\n",
    "for name, run in zip(names, run_funcs):\n",
    "    g_normsq_list = run(A, b, x0, n_iter)\n",
    "    plt.plot(np.arange(n_iter), np.sqrt(np.array(g_normsq_list)))\n",
    "\n",
    "plt.yscale('log')\n",
    "plt.legend(names)\n",
    "plt.xlabel('iterations')\n",
    "plt.ylabel('log of gradient norm')"
   ]
  },
  {
   "cell_type": "code",
   "execution_count": 277,
   "metadata": {},
   "outputs": [
    {
     "data": {
      "text/plain": [
       "Text(0, 0.5, 'log of gradient norm')"
      ]
     },
     "execution_count": 277,
     "metadata": {},
     "output_type": "execute_result"
    },
    {
     "data": {
      "image/png": "[encoded data removed]",
      "text/plain": [
       "<Figure size 432x288 with 1 Axes>"
      ]
     },
     "metadata": {
      "needs_background": "light"
     },
     "output_type": "display_data"
    }
   ],
   "source": [
    "n_iter = 100\n",
    "grad_f, x0 = generate_problem(50)\n",
    "\n",
    "names = ['agent', 'BB']\n",
    "run_funcs = [run_agent, run_BB]\n",
    "\n",
    "for name, run in zip(names, run_funcs):\n",
    "    g_normsq_list = run(grad_f, x0, n_iter)\n",
    "    plt.plot(np.arange(n_iter), np.sqrt(np.array(g_normsq_list)))\n",
    "\n",
    "plt.yscale('log')\n",
    "plt.legend(names)\n",
    "plt.xlabel('iterations')\n",
    "plt.ylabel('log of gradient norm')"
   ]
  },
  {
   "cell_type": "code",
   "execution_count": 267,
   "metadata": {},
   "outputs": [
    {
     "data": {
      "text/plain": [
       "20"
      ]
     },
     "execution_count": 267,
     "metadata": {},
     "output_type": "execute_result"
    }
   ],
   "source": [
    "x0.shape[0]"
   ]
  },
  {
   "cell_type": "code",
   "execution_count": null,
   "metadata": {},
   "outputs": [],
   "source": []
  }
 ],
 "metadata": {
  "interpreter": {
   "hash": "868d701682088d1128cad788f3b783d362f359ccbd74a171330d82ee9fcc2b54"
  },
  "kernelspec": {
   "display_name": "Python 3.9.10 ('archienv')",
   "language": "python",
   "name": "python3"
  },
  "language_info": {
   "codemirror_mode": {
    "name": "ipython",
    "version": 3
   },
   "file_extension": ".py",
   "mimetype": "text/x-python",
   "name": "python",
   "nbconvert_exporter": "python",
   "pygments_lexer": "ipython3",
   "version": "3.9.10"
  },
  "orig_nbformat": 4
 },
 "nbformat": 4,
 "nbformat_minor": 2
}
